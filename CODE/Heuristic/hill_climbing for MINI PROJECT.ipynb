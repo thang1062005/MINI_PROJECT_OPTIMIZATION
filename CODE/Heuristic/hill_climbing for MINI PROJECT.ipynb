{
 "cells": [
  {
   "cell_type": "markdown",
   "id": "1f408fb1",
   "metadata": {},
   "source": [
    "#  tính chi phí đường đi cho 1 route\n",
    "route = [0, ..., 0]\n",
    "N người, đánh số i từ [1,N]. Đón người i ở điểm i, trả ở điểm i+N+M. Nếu đón người i phải có đường đi trực tiếp từ i->i+N+M\n",
    "M hàng, đánh số j từ [1,M]. Nhận hàng j ở điểm j+N, trả ở điểm j+2N+M. Nếu nhận hàng j thì trong đường đi về sau phải đi qua j+2N+M.\n",
    "K xe, đánh số k từ [0,K-1]. Khởi hành ở 0, kết thúc sẽ ở 0.\n",
    "q: danh sách số lượng hàng mỗi loại.\n",
    "Q: danh sách trọng tải hàng mỗi xe."
   ]
  },
  {
   "cell_type": "code",
   "execution_count": 61,
   "id": "9bc23152",
   "metadata": {},
   "outputs": [],
   "source": [
    "import random\n",
    "import math\n",
    "import copy\n",
    "\n",
    "def compute_route_length(route, distance_matrix):\n",
    "    total_length = 0\n",
    "    for i in range(len(route) - 1):\n",
    "        total_length += distance_matrix[route[i]][route[i + 1]]\n",
    "    return total_length\n",
    "\n",
    "def compute_max_route_length(solution, distance_matrix):\n",
    "    return max(compute_route_length(route, distance_matrix) for route in solution)"
   ]
  },
  {
   "cell_type": "markdown",
   "id": "7f0b2c66",
   "metadata": {},
   "source": [
    "# khởi tạo trạng thái đầu:\n",
    "- thỏa mãn về việc xe cần có đường đi trực tiếp từ điểm đón người tới điểm trả người.\n",
    "- thỏa mãn ràng buộc về trọng tải mỗi xe khi trở hàng"
   ]
  },
  {
   "cell_type": "code",
   "execution_count": 62,
   "id": "b23a7b17",
   "metadata": {},
   "outputs": [],
   "source": [
    "import random\n",
    "import copy\n",
    "def initialize_solution(N, M, K,q, Q):\n",
    "    solution = [[] for _ in range(K)]\n",
    "    parcels = list(range(N+1, N + M+1))  # Các yêu cầu chở hàng (4,5,6)\n",
    "    passengers = list(range(1, N + 1))  # Các yêu cầu chở hành khách\n",
    "    weight = [0 for i in range(K)] # weight là danh sách chứa khối lượng từng xe\n",
    "    \n",
    "# Phân bổ yêu cầu hàng vào taxi\n",
    "    \n",
    "    for parcel in parcels:\n",
    "        taxi = random.randint(0, K - 1) # index của xe được chọn\n",
    "        pickup = parcel # index của hàng được chọn \n",
    "        dropoff = parcel + M + N\n",
    "        \n",
    "        # Tìm vị trí hợp lệ để chèn\n",
    "        route = solution[taxi]\n",
    "        id_pickup = random.randint(0, len(route))  \n",
    "        \n",
    "        # nếu khối lượng ít hơn trọng tải thì nhận thêm hàng\n",
    "        if weight[taxi] + q[pickup-N-1] <= Q[taxi]:\n",
    "            route.insert(id_pickup, pickup)\n",
    "            # mỗi khi đón hàng, cập nhật khối lượng hiện tại\n",
    "            weight[taxi] += q[pickup-N-1]\n",
    "         \n",
    "        \n",
    "      \n",
    "        # Đảm bảo điểm dropoff được chèn sau điểm pickup\n",
    "        id_dropoff = random.randint(id_pickup + 1, len(route))\n",
    "        route.insert(id_dropoff, dropoff)\n",
    "        weight[taxi] -= q[dropoff-N-M-N-1]\n",
    "        \n",
    "    \n",
    "# Phân bổ yêu cầu chở người\n",
    "\n",
    "    for passenger in passengers:\n",
    "        taxi = random.randint(0, K - 1)\n",
    "        pickup = passenger\n",
    "        dropoff = passenger + M + N\n",
    "        \n",
    "        # Tìm vị trí hợp lệ để chèn\n",
    "        route = solution[taxi]\n",
    "        insert_pickup = random.randint(0, len(route))  \n",
    "        route.insert(insert_pickup, pickup)\n",
    "        \n",
    "        # Đảm bảo điểm dropoff được chèn ngay sau điểm pickup\n",
    "        insert_dropoff = insert_pickup + 1\n",
    "        route.insert(insert_dropoff, dropoff)\n",
    "        \n",
    "    # Thêm điểm depot vào đầu và cuối mỗi route\n",
    "    for taxi in range(K):\n",
    "        solution[taxi] = [0] + solution[taxi] + [0]\n",
    "    \n",
    "    return solution\n"
   ]
  },
  {
   "cell_type": "markdown",
   "id": "33810308",
   "metadata": {},
   "source": [
    "# Tạo trạng thái neighbors\n",
    "- tớ chưa nghĩ ra nên quyết định tạo 10 random solution cho tập neighbors"
   ]
  },
  {
   "cell_type": "code",
   "execution_count": 63,
   "id": "b0a67c93",
   "metadata": {},
   "outputs": [],
   "source": [
    "import random\n",
    "import copy\n",
    "\n",
    "def generate_neighbors(solution, N, M, K, q, Q):\n",
    "    neighbors = []\n",
    "    for _ in range(10):\n",
    "        neighbors.append(initialize_solution(N, M, K,q, Q))\n",
    "    return neighbors    \n"
   ]
  },
  {
   "cell_type": "markdown",
   "id": "bed7a36d",
   "metadata": {},
   "source": [
    "# hill climbing\n",
    "- chọn ra phương án tham lam nhất trong tập neighbors\n",
    "- lưu giá trị tối ưu và so sánh với các neighbors mới được tạo ra\n",
    "- nếu trong các neighbors mới ko có kết quả tối ưu hơn thì cho ra kết quả"
   ]
  },
  {
   "cell_type": "code",
   "execution_count": 64,
   "id": "b78b827a",
   "metadata": {},
   "outputs": [],
   "source": [
    "def hill_climbing(N, M, K, q, Q, distance_matrix):\n",
    "    # 1. Khởi tạo giải pháp ban đầu\n",
    "    solution = initialize_solution(N, M, K,q, Q)\n",
    "    best_solution = solution\n",
    "    best_cost = compute_max_route_length(solution, distance_matrix)\n",
    "\n",
    "    # 2. Lặp để cải thiện\n",
    "    iterations = 0\n",
    "    MAX_ITERATIONS = 1000\n",
    "    while iterations < MAX_ITERATIONS:\n",
    "        # Tìm hàng xóm\n",
    "        neighbors = generate_neighbors(solution, N, M, K, q, Q)\n",
    "\n",
    "        # Đánh giá hàng xóm\n",
    "        for neighbor in neighbors:\n",
    "            cost = compute_max_route_length(neighbor, distance_matrix)\n",
    "            if cost < best_cost:\n",
    "                best_solution = neighbor\n",
    "                best_cost = cost\n",
    "        \n",
    "        # Dừng nếu không cải thiện\n",
    "        if best_solution == solution:\n",
    "            break\n",
    "        solution = best_solution\n",
    "        iterations += 1\n",
    "\n",
    "    return best_solution, best_cost\n",
    "\n",
    "\n"
   ]
  },
  {
   "cell_type": "markdown",
   "id": "47a4060a",
   "metadata": {},
   "source": [
    "# main"
   ]
  },
  {
   "cell_type": "code",
   "execution_count": 71,
   "id": "a7f359be",
   "metadata": {},
   "outputs": [
    {
     "name": "stdout",
     "output_type": "stream",
     "text": [
      "2\n",
      "8\n",
      "0 6 12 4 10 2 8 0\n",
      "8\n",
      "0 5 3 9 11 1 7 0\n"
     ]
    }
   ],
   "source": [
    "# Hàm chính (input và output)\n",
    "def main():\n",
    "    # Input\n",
    "    N, M, K = 3,3,2\n",
    "    q = [8,4,5]\n",
    "    Q = [16,16]\n",
    "    distance_matrix = [\n",
    "    [0, 8, 7, 9, 6, 5, 11, 6, 11, 12, 12, 12, 13],\n",
    "    [8, 0, 4, 1, 2, 8, 5, 13, 19, 12, 4, 8, 9],\n",
    "    [7, 4, 0, 3, 3, 8, 4, 12, 15, 8, 5, 6, 7],\n",
    "    [9, 1, 3, 0, 3, 9, 4, 14, 19, 11, 3, 7, 8],\n",
    "    [6, 2, 3, 3, 0, 6, 6, 11, 17, 11, 6, 9, 10],\n",
    "    [5, 8, 8, 9, 6, 0, 12, 5, 16, 15, 12, 15, 15],\n",
    "    [11, 5, 4, 4, 6, 12, 0, 16, 18, 7, 4, 3, 4],\n",
    "    [6, 13, 12, 14, 11, 5, 16, 0, 15, 18, 17, 18, 19],\n",
    "    [11, 19, 15, 19, 17, 16, 18, 15, 0, 13, 21, 17, 17],\n",
    "    [12, 12, 8, 11, 11, 15, 7, 18, 13, 0, 11, 5, 4],\n",
    "    [12, 4, 5, 3, 6, 12, 4, 17, 21, 11, 0, 7, 8],\n",
    "    [12, 8, 6, 7, 9, 15, 3, 18, 17, 5, 7, 0, 1],\n",
    "    [13, 9, 7, 8, 10, 15, 4, 19, 17, 4, 8, 1, 0]]\n",
    "\n",
    "    #for _ in range(2 * N + 2 * M + 1):\n",
    "        #distance_matrix.append(list(map(int, input().split())))\n",
    "\n",
    "    # Thực hiện Local Search\n",
    "    solution, cost = hill_climbing(N, M, K, q, Q, distance_matrix)\n",
    "    # Output\n",
    "    print(K)\n",
    "    for route in solution:\n",
    "        print(len(route))\n",
    "        print(\" \".join(map(str, route)))\n",
    "\n",
    "main()"
   ]
  }
 ],
 "metadata": {
  "kernelspec": {
   "display_name": "Python 3 (ipykernel)",
   "language": "python",
   "name": "python3"
  },
  "language_info": {
   "codemirror_mode": {
    "name": "ipython",
    "version": 3
   },
   "file_extension": ".py",
   "mimetype": "text/x-python",
   "name": "python",
   "nbconvert_exporter": "python",
   "pygments_lexer": "ipython3",
   "version": "3.11.4"
  }
 },
 "nbformat": 4,
 "nbformat_minor": 5
}
